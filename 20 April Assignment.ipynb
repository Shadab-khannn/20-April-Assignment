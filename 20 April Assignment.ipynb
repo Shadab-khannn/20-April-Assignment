{
 "cells": [
  {
   "cell_type": "code",
   "execution_count": null,
   "id": "5b2d802c-cbff-48b2-9bff-1a10eedad873",
   "metadata": {},
   "outputs": [],
   "source": [
    "Q1. What is the KNN algorithm?"
   ]
  },
  {
   "cell_type": "markdown",
   "id": "543b959c-09dc-4afe-a711-b69b9391b33f",
   "metadata": {},
   "source": [
    "ANS -"
   ]
  },
  {
   "cell_type": "code",
   "execution_count": null,
   "id": "eb3b715d-1f58-46f6-91e5-03aac9102d0f",
   "metadata": {},
   "outputs": [],
   "source": [
    "KNN or K-nearest neighbor Algorithm is a supervised learning algorithm that works on a principle that every data point falling\n",
    "near to each other comes in the same class. The basic assumption here is that the things that are near to each other, are like each other.\n",
    "\n",
    "The k-nearest neighbors algorithm (k-NN) is a non-parametric, supervised learning classifier, which uses proximity to make classifications\n",
    "or predictions about the grouping of an individual data point.\n",
    "\n",
    "The k-nearest neighbors algorithm (k-NN) is a non-parametric supervised learning method first developed by Evelyn Fix and\n",
    "Joseph Hodges in 1951, and later expanded by Thomas Cover. It is used for classification and regression. In both cases, the input \n",
    "consists of the k closest training examples in a data set.\n",
    "\n",
    "The value of k is very crucial in the KNN algorithm to define the number of neighbors in the algorithm.\n",
    "The value of k in the k-nearest neighbors (k-NN) algorithm should be chosen based on the input data.\n",
    "If the input data has more outliers or noise, a higher value of k would be better."
   ]
  },
  {
   "cell_type": "code",
   "execution_count": null,
   "id": "4b06f212-d269-4902-a079-2ae24da20d7c",
   "metadata": {},
   "outputs": [],
   "source": []
  },
  {
   "cell_type": "code",
   "execution_count": null,
   "id": "68357950-9721-432b-939a-214214974353",
   "metadata": {},
   "outputs": [],
   "source": [
    "Q2. How do you choose the value of K in KNN?"
   ]
  },
  {
   "cell_type": "markdown",
   "id": "92fe3920-3fde-4ab2-b42c-6f8e68497b66",
   "metadata": {},
   "source": [
    "ANS -"
   ]
  },
  {
   "cell_type": "code",
   "execution_count": null,
   "id": "ac42ad0a-75c1-4948-96ac-0b0ecc0944f7",
   "metadata": {},
   "outputs": [],
   "source": [
    "In KNN, finding the value of k is not easy. A small value of k means that noise will have a higher influence \n",
    "on the result and a large value make it computationally expensive. Data scientists usually choose as an\n",
    "odd number if the number of classes is 2 and another simple approach to select k is set k=sqrt (n).\n",
    "There is no particular way of choosing the value K, but here are some common conventions to keep in mind:\n",
    "    Choosing a very low value will most likely lead to inaccurate predictions. The commonly used value of K is 5."
   ]
  },
  {
   "cell_type": "code",
   "execution_count": null,
   "id": "633381d4-ddcc-4e59-8f67-484e35badf25",
   "metadata": {},
   "outputs": [],
   "source": []
  },
  {
   "cell_type": "code",
   "execution_count": null,
   "id": "e3855ebb-bd00-4ad1-9098-d50d9ddb69e9",
   "metadata": {},
   "outputs": [],
   "source": [
    "Q3. What is the difference between KNN classifier and KNN regressor?"
   ]
  },
  {
   "cell_type": "markdown",
   "id": "72cb8286-2671-4e86-9762-dede8233101b",
   "metadata": {},
   "source": [
    "ANS -"
   ]
  },
  {
   "cell_type": "code",
   "execution_count": null,
   "id": "67696fbd-fce6-468a-80c8-721dae5cc0e0",
   "metadata": {},
   "outputs": [],
   "source": [
    "The key difference between KNN classifier and KNN regression is that KNN regression tries to predict the \n",
    "value of the output variable by using a local average, while KNN classification attempts to predict the \n",
    "class to which the output variable belongs by computing the local probability¹². KNN Classifier is used for\n",
    "classification problems and KNN regression is used for solving regression problems."
   ]
  },
  {
   "cell_type": "code",
   "execution_count": null,
   "id": "c75d4a70-d01f-459f-9640-1cc886081fcc",
   "metadata": {},
   "outputs": [],
   "source": []
  },
  {
   "cell_type": "code",
   "execution_count": null,
   "id": "0982f2f6-c105-483b-ad0e-d3a19901ac67",
   "metadata": {},
   "outputs": [],
   "source": [
    "Q4. How do you measure the performance of KNN?"
   ]
  },
  {
   "cell_type": "markdown",
   "id": "dfdef481-ed90-4d6c-b97d-40faac598db3",
   "metadata": {},
   "source": [
    "ANS -"
   ]
  },
  {
   "cell_type": "code",
   "execution_count": null,
   "id": "8e501542-3772-443f-bf90-8d6253a153a9",
   "metadata": {},
   "outputs": [],
   "source": [
    "The performance of KNN can be measured using various metrics such as accuracy, precision, recall, F1 score,\n",
    "and confusion matrix. The choice of metric depends on the problem statement and the type of data.\n",
    "For example, accuracy is used when the data is balanced while precision and recall are used when the data is imbalanced."
   ]
  },
  {
   "cell_type": "code",
   "execution_count": null,
   "id": "ae8ca74f-b3b5-4f61-b64e-17950b0b511b",
   "metadata": {},
   "outputs": [],
   "source": []
  },
  {
   "cell_type": "code",
   "execution_count": null,
   "id": "44e8fb1f-c7e5-40d9-984d-4f378ea96bd2",
   "metadata": {},
   "outputs": [],
   "source": [
    "Q5. What is the curse of dimensionality in KNN?"
   ]
  },
  {
   "cell_type": "markdown",
   "id": "df62a34f-60cd-4881-aca8-ec7fad8e28f8",
   "metadata": {},
   "source": [
    "ANS -"
   ]
  },
  {
   "cell_type": "code",
   "execution_count": null,
   "id": "08c28578-f350-4dc9-9342-46f0b4598076",
   "metadata": {},
   "outputs": [],
   "source": [
    "The curse of dimensionality is a phenomenon that occurs when the number of dimensions increases.\n",
    "In KNN, as the number of dimensions increases, the distance between the nearest neighbors becomes\n",
    "larger and the performance of the algorithm decreases. \n",
    "This is because the data becomes more sparse in high-dimensional space."
   ]
  },
  {
   "cell_type": "code",
   "execution_count": null,
   "id": "7aa62693-8caa-4eb3-8675-6f9f53c3169c",
   "metadata": {},
   "outputs": [],
   "source": []
  },
  {
   "cell_type": "code",
   "execution_count": null,
   "id": "a6e3a707-c206-441d-aa00-d941ba8098c5",
   "metadata": {},
   "outputs": [],
   "source": [
    "Q6. How do you handle missing values in KNN?"
   ]
  },
  {
   "cell_type": "markdown",
   "id": "c5025602-fafc-4dc8-bbb6-2354ec8d49e5",
   "metadata": {},
   "source": [
    "ANS -"
   ]
  },
  {
   "cell_type": "code",
   "execution_count": null,
   "id": "b36636a1-f386-4435-bc47-796405e0abda",
   "metadata": {},
   "outputs": [],
   "source": [
    "There are several ways to handle missing values in KNN.\n",
    "One way is to use the mean or median value of the feature to fill in the missing values.\n",
    "Another way is to use the KNN imputation method, which involves finding the K nearest neighbors of the missing value\n",
    "and using their average value to fill in the missing value."
   ]
  },
  {
   "cell_type": "code",
   "execution_count": null,
   "id": "de99d774-c9b4-45fc-9aa7-9fa803573999",
   "metadata": {},
   "outputs": [],
   "source": []
  },
  {
   "cell_type": "code",
   "execution_count": null,
   "id": "5332e62d-18f9-4be7-8870-cafbf2636df7",
   "metadata": {},
   "outputs": [],
   "source": [
    "Q7. Compare and contrast the performance of the KNN classifier and regressor. Which one is better for\n",
    "which type of problem?"
   ]
  },
  {
   "cell_type": "markdown",
   "id": "1b55bb4b-0c26-4b46-9a37-404f74a6fb39",
   "metadata": {},
   "source": [
    "ANS -"
   ]
  },
  {
   "cell_type": "code",
   "execution_count": null,
   "id": "78e9d2a0-967c-4bbb-8f62-fddfdeda0b69",
   "metadata": {},
   "outputs": [],
   "source": [
    "The performance of KNN classifier and regressor depends on the type of problem. \n",
    "KNN classifier is used for classification problems while KNN regressor is used for regression problems.\n",
    "In general, KNN classifier performs better when the data is balanced while KNN regressor performs better when the data is continuous.\n",
    "However, the choice of algorithm depends on the problem statement and the type of data."
   ]
  },
  {
   "cell_type": "code",
   "execution_count": null,
   "id": "0a844274-b39d-4c87-8617-059f9b2e39fb",
   "metadata": {},
   "outputs": [],
   "source": []
  },
  {
   "cell_type": "code",
   "execution_count": null,
   "id": "a2d6f024-7c16-4b4a-ab11-e491eb0bc80a",
   "metadata": {},
   "outputs": [],
   "source": [
    "Q8. What are the strengths and weaknesses of the KNN algorithm for classification and regression tasks,\n",
    "and how can these be addressed?"
   ]
  },
  {
   "cell_type": "markdown",
   "id": "f3649370-6acf-4117-9665-286551c554c9",
   "metadata": {},
   "source": [
    "ANS -"
   ]
  },
  {
   "cell_type": "code",
   "execution_count": null,
   "id": "6b217f2b-fac0-4095-9d36-1e26e6bca6c1",
   "metadata": {},
   "outputs": [],
   "source": [
    "The strengths of the KNN algorithm are that it is simple to implement, requires no training time,\n",
    "and can be used for both classification and regression tasks. The weaknesses of the KNN algorithm\n",
    "are that it is computationally expensive, requires a lot of memory to store the training data, and \n",
    "is sensitive to irrelevant features. These weaknesses can be addressed by using dimensionality reduction\n",
    "techniques such as PCA or LDA, using feature selection techniques such as mutual information or correlation-based feature selection,\n",
    "and using distance metrics such as Euclidean distance or Manhattan distance."
   ]
  },
  {
   "cell_type": "code",
   "execution_count": null,
   "id": "4f1c1a7b-6dfd-4eea-ba76-9984656e2542",
   "metadata": {},
   "outputs": [],
   "source": []
  },
  {
   "cell_type": "code",
   "execution_count": null,
   "id": "9c9c9f72-7416-4b99-87e4-c2eb08253c1f",
   "metadata": {},
   "outputs": [],
   "source": [
    "Q9. What is the difference between Euclidean distance and Manhattan distance in KNN?"
   ]
  },
  {
   "cell_type": "markdown",
   "id": "2859a222-0c74-4479-89be-ab1c5093a042",
   "metadata": {},
   "source": [
    "ANS -"
   ]
  },
  {
   "cell_type": "code",
   "execution_count": null,
   "id": "06dc12b7-08da-45ae-86f7-6e9f8ee0f6c8",
   "metadata": {},
   "outputs": [],
   "source": [
    "The Euclidean distance is the straight-line distance between two points in Euclidean space.\n",
    "It is calculated as the square root of the sum of the squared differences between the coordinates of the two points. \n",
    "The Manhattan distance is the sum of the absolute differences between the coordinates of the two points.\n",
    "In KNN, both Euclidean distance and Manhattan distance can be used as distance metrics. \n",
    "The choice of distance metric depends on the problem statement and the type of data."
   ]
  },
  {
   "cell_type": "code",
   "execution_count": null,
   "id": "d523639a-5e25-4e5e-a5e0-d9179a143230",
   "metadata": {},
   "outputs": [],
   "source": []
  },
  {
   "cell_type": "code",
   "execution_count": null,
   "id": "42199896-e292-4f7e-8f7e-10e876d72a87",
   "metadata": {},
   "outputs": [],
   "source": [
    "Q10. What is the role of feature scaling in KNN?"
   ]
  },
  {
   "cell_type": "markdown",
   "id": "ffcf7ca1-78b9-4592-81b7-e69b8197c6b8",
   "metadata": {},
   "source": [
    "ANS -"
   ]
  },
  {
   "cell_type": "code",
   "execution_count": null,
   "id": "ecae672a-5a4c-48c1-b703-93670d5de21c",
   "metadata": {},
   "outputs": [],
   "source": [
    "Feature scaling is an important step in KNN because it ensures that all features contribute equally to the distance metric.\n",
    "If the features are not scaled, then features with larger values will dominate the distance metric. This can lead to incorrect predictions. Feature scaling can be done using techniques such as min-max scaling or standardization.\n",
    "\n"
   ]
  }
 ],
 "metadata": {
  "kernelspec": {
   "display_name": "Python 3 (ipykernel)",
   "language": "python",
   "name": "python3"
  },
  "language_info": {
   "codemirror_mode": {
    "name": "ipython",
    "version": 3
   },
   "file_extension": ".py",
   "mimetype": "text/x-python",
   "name": "python",
   "nbconvert_exporter": "python",
   "pygments_lexer": "ipython3",
   "version": "3.10.8"
  }
 },
 "nbformat": 4,
 "nbformat_minor": 5
}
